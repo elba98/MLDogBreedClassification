{
 "cells": [
  {
   "cell_type": "code",
   "execution_count": 3,
   "metadata": {
    "collapsed": true,
    "pycharm": {
     "name": "#%%\n"
    }
   },
   "outputs": [],
   "source": [
    "from tensorflow.keras.preprocessing.image import img_to_array\n",
    "from tensorflow.keras.preprocessing.image import load_img\n",
    "from tensorflow.keras.models import load_model\n",
    "import numpy as np\n",
    "import mimetypes\n",
    "import argparse\n",
    "import imutils\n",
    "import cv2\n",
    "import os"
   ]
  },
  {
   "cell_type": "code",
   "execution_count": 4,
   "outputs": [],
   "source": [
    "# define the base path to the input dataset and then use it to derive\n",
    "# the path to the images directory and annotation CSV file\n",
    "BASE_PATH = \"./input/stanford-dogs-dataset/\"\n",
    "IMAGES_PATH = os.path.sep.join([BASE_PATH, \"images/Images/\"])\n",
    "ANNOTS_PATH = os.path.sep.join([BASE_PATH, \"annotations/Annotations\"])"
   ],
   "metadata": {
    "collapsed": false,
    "pycharm": {
     "name": "#%%\n"
    }
   }
  },
  {
   "cell_type": "code",
   "execution_count": 5,
   "outputs": [],
   "source": [
    "# define the path to the base output directory\n",
    "BASE_OUTPUT = \"output\"\n",
    "# define the path to the output serialized model, model training plot,\n",
    "# and testing image filenames\n",
    "MODEL_PATH = os.path.sep.join([BASE_OUTPUT, \"detector.h5\"])\n",
    "PLOT_PATH = os.path.sep.join([BASE_OUTPUT, \"plot.png\"])\n",
    "TEST_FILENAMES = BASE_OUTPUT + \"/test_images.txt\""
   ],
   "metadata": {
    "collapsed": false,
    "pycharm": {
     "name": "#%%\n"
    }
   }
  },
  {
   "cell_type": "code",
   "execution_count": 6,
   "outputs": [],
   "source": [
    "# construct the argument parser and parse the arguments\n",
    "# ap = argparse.ArgumentParser()\n",
    "# ap.add_argument(\"-i\", \"--input\", required=True,\n",
    "# \thelp=\"path to input image/text file of image filenames\")\n",
    "# args = vars(ap.parse_args())"
   ],
   "metadata": {
    "collapsed": false,
    "pycharm": {
     "name": "#%%\n"
    }
   }
  },
  {
   "cell_type": "code",
   "execution_count": 7,
   "outputs": [],
   "source": [
    "# determine the input file type, but assume that we're working with\n",
    "# single input image\n",
    "\n",
    "# filetype = mimetypes.guess_type(args[\"input\"])[0]\n",
    "# imagePaths = [args[\"input\"]]\n",
    "# filename = \"input/test-images/chihuahua.jpg\"\n",
    "# filetype = filename.split(\".\")[1]\n",
    "# # if the file type is a text file, then we need to process *multiple*\n",
    "# # images\n",
    "# if \"text/plain\" == filetype:\n",
    "# \t# load the filenames in our testing file and initialize our list\n",
    "# \t# of image paths\n",
    "# \t# filenames = open(args[\"input\"]).read().strip().split(\"\\n\")\n",
    "# \tfilename = filename\n",
    "# \timagePaths = []\n",
    "# \t# loop over the filenames\n",
    "# \tfor f in filenames:\n",
    "# \t\t# construct the full path to the image filename and then\n",
    "# \t\t# update our image paths list\n",
    "# \t\tp = os.path.sep.join([IMAGES_PATH, f])\n",
    "# \t\timagePaths.append(p)"
   ],
   "metadata": {
    "collapsed": false,
    "pycharm": {
     "name": "#%%\n"
    }
   }
  },
  {
   "cell_type": "code",
   "execution_count": 17,
   "outputs": [
    {
     "name": "stdout",
     "output_type": "stream",
     "text": [
      "[INFO] loading object detector...\n"
     ]
    }
   ],
   "source": [
    "from os import walk\n",
    "# imagePaths = []\n",
    "# imagePaths.append(\"input/test-images/chihuahua.jpg\")\n",
    "# imagePaths.append(\"input/stanford-dogs-dataset/images/Images/n02086646-Blenheim_spaniel/n02086646_20.jpg\")\n",
    "\n",
    "#Define paths\n",
    "images_dir = \"./input/test-images\"\n",
    "imagePaths = next(walk(images_dir), (None, None, []))[2]  # [] if no file\n",
    "\n",
    "# load our trained bounding box regressor from disk\n",
    "print(\"[INFO] loading object detector...\")\n",
    "model = load_model(MODEL_PATH)\n",
    "# loop over the images that we'll be testing using our bounding box\n",
    "# regression model\n",
    "for imagePath in imagePaths:\n",
    "\timagePath = images_dir + \"/\" + imagePath\n",
    "\t# load the input image (in Keras format) from disk and preprocess\n",
    "\t# it, scaling the pixel intensities to the range [0, 1]\n",
    "\timage = load_img(imagePath, target_size=(224, 224))\n",
    "\timage = img_to_array(image) / 255.0\n",
    "\timage = np.expand_dims(image, axis=0)\n",
    "\n",
    "    # make bounding box predictions on the input image\n",
    "\tpreds = model.predict(image)[0]\n",
    "\t(startX, startY, endX, endY) = preds\n",
    "\t# load the input image (in OpenCV format), resize it such that it\n",
    "\t# fits on our screen, and grab its dimensions\n",
    "\timage = cv2.imread(imagePath)\n",
    "\timage = imutils.resize(image, width=600)\n",
    "\t(h, w) = image.shape[:2]\n",
    "\t# scale the predicted bounding box coordinates based on the image\n",
    "\t# dimensions\n",
    "\tstartX = int(startX * w)\n",
    "\tstartY = int(startY * h)\n",
    "\tendX = int(endX * w)\n",
    "\tendY = int(endY * h)\n",
    "\t# draw the predicted bounding box on the image\n",
    "\tcv2.rectangle(image, (startX, startY), (endX, endY),\n",
    "\t\t(0, 255, 0), 2)\n",
    "\t# show the output image\n",
    "\tcv2.imshow(\"Output\", image)\n",
    "\tcv2.waitKey(0)"
   ],
   "metadata": {
    "collapsed": false,
    "pycharm": {
     "name": "#%%\n"
    }
   }
  }
 ],
 "metadata": {
  "kernelspec": {
   "display_name": "Python 3",
   "language": "python",
   "name": "python3"
  },
  "language_info": {
   "codemirror_mode": {
    "name": "ipython",
    "version": 2
   },
   "file_extension": ".py",
   "mimetype": "text/x-python",
   "name": "python",
   "nbconvert_exporter": "python",
   "pygments_lexer": "ipython2",
   "version": "2.7.6"
  }
 },
 "nbformat": 4,
 "nbformat_minor": 0
}